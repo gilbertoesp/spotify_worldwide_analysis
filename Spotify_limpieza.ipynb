{
 "cells": [
  {
   "cell_type": "code",
   "execution_count": 31,
   "metadata": {
    "collapsed": true
   },
   "outputs": [],
   "source": [
    "\"\"\" Carga de datasets Spotify Worldwide Analisys \"\"\"\n",
    "#nota cargar funciones de spotify, doc & define\n",
    "import pandas as pd\n",
    "import numpy as np\n",
    "import spotify\n",
    "import matplotlib.pyplot as plt"
   ]
  },
  {
   "cell_type": "code",
   "execution_count": 2,
   "metadata": {},
   "outputs": [
    {
     "name": "stdout",
     "output_type": "stream",
     "text": [
      "   Position                  Track Name           Artist  Streams  \\\n",
      "0         1  Reggaetón Lento (Bailemos)             CNCO    19272   \n",
      "1         2                    Chantaje          Shakira    19270   \n",
      "2         3   Otra Vez (feat. J Balvin)    Zion & Lennox    15761   \n",
      "3         4                Vente Pa' Ca     Ricky Martin    14954   \n",
      "4         5                      Safari         J Balvin    14269   \n",
      "5         6                La Bicicleta     Carlos Vives    12843   \n",
      "6         7                  Ay Mi Dios         IAmChino    10986   \n",
      "7         8          Andas En Mi Cabeza    Chino & Nacho    10653   \n",
      "8         9                 Traicionera  Sebastian Yatra     9807   \n",
      "9        10                 Shaky Shaky     Daddy Yankee     9612   \n",
      "\n",
      "                                                 URL        Date Region  \n",
      "0  https://open.spotify.com/track/3AEZUABDXNtecAO...  2017-01-01     ec  \n",
      "1  https://open.spotify.com/track/6mICuAdrwEjh6Y6...  2017-01-01     ec  \n",
      "2  https://open.spotify.com/track/3QwBODjSEzelZyV...  2017-01-01     ec  \n",
      "3  https://open.spotify.com/track/7DM4BPaS7uofFul...  2017-01-01     ec  \n",
      "4  https://open.spotify.com/track/6rQSrBHf7HlZjtc...  2017-01-01     ec  \n",
      "5  https://open.spotify.com/track/0sXvAOmXgjR2QUq...  2017-01-01     ec  \n",
      "6  https://open.spotify.com/track/6stYbAJgTszHAHZ...  2017-01-01     ec  \n",
      "7  https://open.spotify.com/track/5mey7CLLuFToM2P...  2017-01-01     ec  \n",
      "8  https://open.spotify.com/track/5J1c3M4EldCfNxX...  2017-01-01     ec  \n",
      "9  https://open.spotify.com/track/58IL315gMSTD37D...  2017-01-01     ec  \n"
     ]
    }
   ],
   "source": [
    "# Siendo data.csv el dataset inicial\n",
    "daily_song_df = pd.read_csv(\"data/data.csv\")\n",
    "print(daily_song_df.head(10))"
   ]
  },
  {
   "cell_type": "code",
   "execution_count": 3,
   "metadata": {},
   "outputs": [
    {
     "name": "stdout",
     "output_type": "stream",
     "text": [
      "Cantidad total de regiones en dataset: 54\n"
     ]
    }
   ],
   "source": [
    "# labels\n",
    "columnas = ['Position', 'Track Name', 'Artist', 'Streams', 'URL', 'Date', 'Region']\n",
    "#regiones\n",
    "\n",
    "regiones_id = {'id': 'Indonesia', 'ca': 'Canada', 'sg': 'Singapore', 'pt': 'Portugal',\n",
    "                'au': 'Australia', 'hn': 'Honduras', 'dk': 'Denmark', 'pl': 'Poland', \n",
    "                'it': 'Italy', 'hk': 'Hong Kong', 'ie': 'Irelad', 'lt': 'Lithuania', \n",
    "                'gt': 'Guatemala', 'se': 'Senegal', 'lu': 'Luxemburg', 'fr': 'France', \n",
    "                'ar': 'Argentina', 'ec': 'Ecuador', 'uy': 'Uruguay', 'tw': 'Taiwan', \n",
    "                'gr': 'Greece', 'do': 'Dominic Republic', 'fi': 'Finland', 'co': 'Colombia', \n",
    "                'global': 'Global', 'lv': 'Latvia', 'cz': 'Czech Republic', 'at': 'Austria', \n",
    "                'bo': 'Bolivia', 'gb': 'United Kingdom', 'jp': 'Japon', 'be': 'Belgium', \n",
    "                'es': 'Spain', 'ee': 'Estonia', 'no': 'Norway', 'nz': 'New Zeland', \n",
    "                'tr': 'Turkey', 'br': 'Brazil', 'is': 'Iceland', 'pe': 'Peru', \n",
    "                'cr': 'Costa Rica', 'mx': 'Mexico', 'ch': 'Switzerland', \n",
    "                'pa': 'Panama', 'nl': 'Netherlands', 'hu': 'Hungary', 'ph': 'Philippines',\n",
    "                'sk': 'Slovakia', 'sv': 'El Salvador', 'cl': 'Chile', 'us': 'United States',\n",
    "                'my': 'Malaysia', 'de': 'Germany', 'py': 'Paraguay'}\n",
    "\n",
    "print(\"Cantidad total de regiones en dataset: {}\".format(len(regiones_id.keys())))\n",
    "# Para conveniencia de manejo de nombres paises usamos este diccionario inverso\n",
    "regiones_name = {v : k for k,v in regiones_id.items()}"
   ]
  },
  {
   "cell_type": "code",
   "execution_count": 4,
   "metadata": {},
   "outputs": [
    {
     "name": "stdout",
     "output_type": "stream",
     "text": [
      "Cargando funciones de pickle\n"
     ]
    }
   ],
   "source": [
    "\"\"\" Guardando datos \"\"\"\n",
    "# si memoria es true cargara los datos previamente calculados, si false volvera a calcular todo\n",
    "MEMORIA = True\n",
    "\n",
    "import pickle\n",
    "\n",
    "def save_p(object, filename, path=\"data/\"):\n",
    "    \n",
    "    file_object = open(path+filename, 'wb')\n",
    "    pickle.dump(object, file_object)  #PICKLE\n",
    "    file_object.close()\n",
    "    \n",
    "def load_p(filename, path=\"data/\"):\n",
    "    file_object = open(path+filename,'rb')\n",
    "    objeto = pickle.load(file_object)       #PICKLE\n",
    "    return objeto\n",
    "\n",
    "print(\"Cargando funciones de pickle\")"
   ]
  },
  {
   "cell_type": "markdown",
   "metadata": {},
   "source": [
    "# LIMPIANDO "
   ]
  },
  {
   "cell_type": "code",
   "execution_count": 5,
   "metadata": {},
   "outputs": [
    {
     "name": "stdout",
     "output_type": "stream",
     "text": [
      "Contabilidad de valores nulos por columna\n",
      "Position        0\n",
      "Track Name    657\n",
      "Artist        657\n",
      "Streams         0\n",
      "URL             8\n",
      "Date            0\n",
      "Region          0\n",
      "dtype: int64 \n",
      "\n",
      "Porcentaje de datos nulos en la columna *Track Name*\n",
      "0.019092193791869515\n",
      "Porcentaje de datos nulos en la columna *Artist*\n",
      "0.019092193791869515\n"
     ]
    }
   ],
   "source": [
    "print ('Contabilidad de valores nulos por columna')\n",
    "print (daily_song_df.isnull().sum(), '\\n')\n",
    "\n",
    "print ('Porcentaje de datos nulos en la columna *Track Name*')\n",
    "track_null_porcentaje = daily_song_df['Track Name'].isnull().sum() / daily_song_df.shape[0] * 100\n",
    "print (track_null_porcentaje)\n",
    "\n",
    "print ('Porcentaje de datos nulos en la columna *Artist*')\n",
    "artist_null_porcentaje = daily_song_df['Artist'].isnull().sum() / daily_song_df.shape[0] * 100\n",
    "print (artist_null_porcentaje)"
   ]
  },
  {
   "cell_type": "code",
   "execution_count": 40,
   "metadata": {},
   "outputs": [
    {
     "data": {
      "image/png": "[encoded data removed]",
      "text/plain": [
       "<matplotlib.figure.Figure at 0x7fd0391c9710>"
      ]
     },
     "metadata": {},
     "output_type": "display_data"
    }
   ],
   "source": [
    "daily_song_df.plot()\n",
    "plt.show()"
   ]
  },
  {
   "cell_type": "markdown",
   "metadata": {},
   "source": [
    "Estos son los datos nulos mas no encuentra los dias que faltan.\n",
    "\n",
    "Cada region tendra un conjunto de fechas\n",
    "\n"
   ]
  },
  {
   "cell_type": "code",
   "execution_count": 6,
   "metadata": {},
   "outputs": [
    {
     "name": "stdout",
     "output_type": "stream",
     "text": [
      "Cantidad de fechas en la region Indonesia: 371\n",
      "Cantidad de fechas en la region Canada: 371\n",
      "Cantidad de fechas en la region Singapore: 371\n",
      "Cantidad de fechas en la region Portugal: 371\n",
      "Cantidad de fechas en la region Australia: 371\n",
      "Cantidad de fechas en la region Honduras: 371\n",
      "Cantidad de fechas en la region Denmark: 371\n",
      "Cantidad de fechas en la region Poland: 371\n",
      "Cantidad de fechas en la region Italy: 371\n",
      "Cantidad de fechas en la region Hong Kong: 371\n",
      "Cantidad de fechas en la region Irelad: 371\n",
      "Cantidad de fechas en la region Lithuania: 302\n",
      "Cantidad de fechas en la region Guatemala: 371\n",
      "Cantidad de fechas en la region Senegal: 371\n",
      "Cantidad de fechas en la region Luxemburg: 217\n",
      "Cantidad de fechas en la region France: 371\n",
      "Cantidad de fechas en la region Argentina: 371\n",
      "Cantidad de fechas en la region Ecuador: 371\n",
      "Cantidad de fechas en la region Uruguay: 371\n",
      "Cantidad de fechas en la region Taiwan: 371\n",
      "Cantidad de fechas en la region Greece: 371\n",
      "Cantidad de fechas en la region Dominic Republic: 371\n",
      "Cantidad de fechas en la region Finland: 371\n",
      "Cantidad de fechas en la region Colombia: 371\n",
      "Cantidad de fechas en la region Global: 369\n",
      "Cantidad de fechas en la region Latvia: 348\n",
      "Cantidad de fechas en la region Czech Republic: 371\n",
      "Cantidad de fechas en la region Austria: 371\n",
      "Cantidad de fechas en la region Bolivia: 371\n",
      "Cantidad de fechas en la region United Kingdom: 371\n",
      "Cantidad de fechas en la region Japon: 371\n",
      "Cantidad de fechas en la region Belgium: 371\n",
      "Cantidad de fechas en la region Spain: 371\n",
      "Cantidad de fechas en la region Estonia: 265\n",
      "Cantidad de fechas en la region Norway: 371\n",
      "Cantidad de fechas en la region New Zeland: 371\n",
      "Cantidad de fechas en la region Turkey: 371\n",
      "Cantidad de fechas en la region Brazil: 371\n",
      "Cantidad de fechas en la region Iceland: 371\n",
      "Cantidad de fechas en la region Peru: 371\n",
      "Cantidad de fechas en la region Costa Rica: 371\n",
      "Cantidad de fechas en la region Mexico: 371\n",
      "Cantidad de fechas en la region Switzerland: 371\n",
      "Cantidad de fechas en la region Panama: 371\n",
      "Cantidad de fechas en la region Netherlands: 371\n",
      "Cantidad de fechas en la region Hungary: 371\n",
      "Cantidad de fechas en la region Philippines: 371\n",
      "Cantidad de fechas en la region Slovakia: 367\n",
      "Cantidad de fechas en la region El Salvador: 371\n",
      "Cantidad de fechas en la region Chile: 371\n",
      "Cantidad de fechas en la region United States: 371\n",
      "Cantidad de fechas en la region Malaysia: 370\n",
      "Cantidad de fechas en la region Germany: 371\n",
      "Cantidad de fechas en la region Paraguay: 371\n",
      "Cantidad de regiones: 54\t\n"
     ]
    }
   ],
   "source": [
    "fechas_por_region = {}\n",
    "for id_region, name_region in regiones_id.items():\n",
    "    df_region = spotify.get_region(daily_song_df, id_region)\n",
    "    fechas_por_region[id_region] = spotify.get_dates(df_region) \n",
    "    print(\"Cantidad de fechas en la region {}: {}\".format(name_region, len(fechas_por_region[id_region]) ) )\n",
    "\n",
    "print(\"Cantidad de regiones: {}\\t\".format(len(fechas_por_region)))"
   ]
  },
  {
   "cell_type": "code",
   "execution_count": 7,
   "metadata": {},
   "outputs": [
    {
     "name": "stdout",
     "output_type": "stream",
     "text": [
      "Cantidad de regiones incompletas: 7\n",
      "Regiones que no tienen todas las fechas: [('Lithuania', 302), ('Luxemburg', 217), ('Global', 369), ('Latvia', 348), ('Estonia', 265), ('Slovakia', 367), ('Malaysia', 370)]\n"
     ]
    }
   ],
   "source": [
    "regiones_incompletas = [(name_region, len(fechas_por_region[id_region])) for id_region, name_region in regiones_id.items()\n",
    "                        if len(fechas_por_region[id_region]) < 371]\n",
    "\n",
    "print(\"Cantidad de regiones incompletas: {}\".format(len(regiones_incompletas)))\n",
    "print(\"Regiones que no tienen todas las fechas: {}\".format(regiones_incompletas))\n",
    "\n"
   ]
  },
  {
   "cell_type": "markdown",
   "metadata": {},
   "source": [
    "Tenemos 7 regiones que tienen los dias incompletos y la que menos tiene es Luxemburg con 217 dias. Regiones como Malaysia, Slovakia, y Global solo faltan unos cuantos dias. Todas seran ignoradas en los analisis, veremos que hacemos con ellas al final."
   ]
  },
  {
   "cell_type": "code",
   "execution_count": 8,
   "metadata": {},
   "outputs": [
    {
     "name": "stdout",
     "output_type": "stream",
     "text": [
      "Cantidad de regiones completas: 47\n",
      "Regiones que vamos a analizar: [('id', 'Indonesia'), ('ca', 'Canada'), ('sg', 'Singapore'), ('pt', 'Portugal'), ('au', 'Australia'), ('hn', 'Honduras'), ('dk', 'Denmark'), ('pl', 'Poland'), ('it', 'Italy'), ('hk', 'Hong Kong'), ('ie', 'Irelad'), ('gt', 'Guatemala'), ('se', 'Senegal'), ('fr', 'France'), ('ar', 'Argentina'), ('ec', 'Ecuador'), ('uy', 'Uruguay'), ('tw', 'Taiwan'), ('gr', 'Greece'), ('do', 'Dominic Republic'), ('fi', 'Finland'), ('co', 'Colombia'), ('cz', 'Czech Republic'), ('at', 'Austria'), ('bo', 'Bolivia'), ('gb', 'United Kingdom'), ('jp', 'Japon'), ('be', 'Belgium'), ('es', 'Spain'), ('no', 'Norway'), ('nz', 'New Zeland'), ('tr', 'Turkey'), ('br', 'Brazil'), ('is', 'Iceland'), ('pe', 'Peru'), ('cr', 'Costa Rica'), ('mx', 'Mexico'), ('ch', 'Switzerland'), ('pa', 'Panama'), ('nl', 'Netherlands'), ('hu', 'Hungary'), ('ph', 'Philippines'), ('sv', 'El Salvador'), ('cl', 'Chile'), ('us', 'United States'), ('de', 'Germany'), ('py', 'Paraguay')]\n"
     ]
    }
   ],
   "source": [
    "regiones_completas = [(id_,name) for id_,name in regiones_id.items() if len(fechas_por_region[id_]) == 371]\n",
    "print(\"Cantidad de regiones completas: {}\".format(len(regiones_completas)))\n",
    "print(\"Regiones que vamos a analizar: {}\".format(regiones_completas))\n"
   ]
  },
  {
   "cell_type": "code",
   "execution_count": 9,
   "metadata": {
    "collapsed": true
   },
   "outputs": [],
   "source": [
    "\"\"\" Consiguiendo un dataframe de la region Mexico para analisis inicial \"\"\"\n",
    "\n",
    "data = spotify.get_region(daily_song_df, 'mx')\n"
   ]
  },
  {
   "cell_type": "code",
   "execution_count": 26,
   "metadata": {},
   "outputs": [
    {
     "name": "stdout",
     "output_type": "stream",
     "text": [
      "tipo de list_artist: <class 'numpy.ndarray'>\n",
      "tipo de conteo_artistas: <class 'pandas.core.series.Series'>\n",
      "Cantidad de artists en list_artist Mexico: 74200\n",
      "Lista de artistas: ['Shakira' 'CNCO' 'Ricky Martin' ... 'The Weeknd' 'Twenty One Pilots'\n",
      " 'Portugal. The Man']\n",
      "Cantidad de artistas en conteo_artistas: (389,)\n",
      "Conteo de artistas: \n",
      "Ed Sheeran                                 1929\n",
      "Maluma                                     1796\n",
      "J Balvin                                   1783\n",
      "Ozuna                                      1777\n",
      "Banda Sinaloense MS de Sergio Lizárraga    1597\n",
      "Nicky Jam                                  1277\n",
      "Cartel De Santa                            1218\n",
      "The Chainsmokers                           1184\n",
      "Alejandro Fernandez                        1171\n",
      "Mon Laferte                                1129\n",
      "Bad Bunny                                   961\n",
      "Sebastian Yatra                             923\n",
      "Reik                                        825\n",
      "Calvin Harris                               819\n",
      "Farruko                                     814\n",
      "Twenty One Pilots                           811\n",
      "CNCO                                        804\n",
      "Wisin                                       802\n",
      "The Weeknd                                  789\n",
      "Shakira                                     786\n",
      "Daddy Yankee                                770\n",
      "Drake                                       743\n",
      "Martin Garrix                               743\n",
      "León Larregui                               742\n",
      "Alta Consigna                               719\n",
      "Name: Artist, dtype: int64\n"
     ]
    }
   ],
   "source": [
    "\"\"\" Consiguiendo informacion de una sola region \"\"\"\n",
    "\n",
    "\n",
    "artistas = {} #('Artista', frec, max_position,  )\n",
    "\n",
    "#for region_id, region_name in regiones_completas:\n",
    "region_id = 'mx'\n",
    "region_name = 'Mexico'\n",
    "\n",
    "#data = spotify.get_region(daily_song_df, region_id)\n",
    "list_artist = data['Artist'].values\n",
    "conteo_artistas = data['Artist'].value_counts()\n",
    "# fechas_por_region[region_id]\n",
    "print(\"tipo de list_artist: {}\".format(type(list_artist)))\n",
    "print(\"tipo de conteo_artistas: {}\".format(type(conteo_artistas)))\n",
    "\n",
    "print(\"Cantidad de artists en list_artist {}: {}\".format(region_name, len(list_artist)))\n",
    "print(\"Lista de artistas: {}\".format(list_artist))\n",
    "\n",
    "print(\"Cantidad de artistas en conteo_artistas: {}\".format(conteo_artistas.shape))\n",
    "print(\"Conteo de artistas: \\n{}\".format(conteo_artistas.head(5)))\n",
    "\n",
    "\n",
    "\n"
   ]
  },
  {
   "cell_type": "markdown",
   "metadata": {},
   "source": [
    "Tenemos 389 artistas diferentes para la region de mexico, siendo Ed Sheeran el que tiene mas canciones entre los top 200 de la region. De las 74200 canciones que entraron al 200 durante las fechas que tenemos, 1929 son de Edsheeran"
   ]
  },
  {
   "cell_type": "code",
   "execution_count": 49,
   "metadata": {},
   "outputs": [
    {
     "name": "stdout",
     "output_type": "stream",
     "text": [
      "<class 'pandas.core.series.Series'>\n",
      "count     389.000000\n",
      "mean      190.704370\n",
      "std       303.813066\n",
      "min         1.000000\n",
      "25%         4.000000\n",
      "50%        62.000000\n",
      "75%       255.000000\n",
      "max      1929.000000\n",
      "Name: Artist, dtype: float64\n"
     ]
    },
    {
     "data": {
      "text/plain": [
       "' Tenemos que en promedio los artistas aparacen 190 veces en el dataframe'"
      ]
     },
     "execution_count": 49,
     "metadata": {},
     "output_type": "execute_result"
    }
   ],
   "source": [
    "print(type(conteo_artistas))\n",
    "print(conteo_artistas.describe())\n",
    "\"\"\" Tenemos que en promedio los artistas aparacen 190 veces en el dataframe\"\"\""
   ]
  },
  {
   "cell_type": "code",
   "execution_count": 50,
   "metadata": {},
   "outputs": [
    {
     "name": "stdout",
     "output_type": "stream",
     "text": [
      "Ed Sheeran                                 1929\n",
      "Maluma                                     1796\n",
      "J Balvin                                   1783\n",
      "Ozuna                                      1777\n",
      "Banda Sinaloense MS de Sergio Lizárraga    1597\n",
      "Nicky Jam                                  1277\n",
      "Cartel De Santa                            1218\n",
      "The Chainsmokers                           1184\n",
      "Alejandro Fernandez                        1171\n",
      "Mon Laferte                                1129\n",
      "Bad Bunny                                   961\n",
      "Sebastian Yatra                             923\n",
      "Reik                                        825\n",
      "Calvin Harris                               819\n",
      "Farruko                                     814\n",
      "Twenty One Pilots                           811\n",
      "CNCO                                        804\n",
      "Wisin                                       802\n",
      "The Weeknd                                  789\n",
      "Shakira                                     786\n",
      "Daddy Yankee                                770\n",
      "Drake                                       743\n",
      "Martin Garrix                               743\n",
      "León Larregui                               742\n",
      "Alta Consigna                               719\n",
      "Charlie Puth                                717\n",
      "Major Lazer                                 714\n",
      "Piso 21                                     713\n",
      "DJ Snake                                    702\n",
      "Natalia Lafourcade                          693\n",
      "                                           ... \n",
      "Earth, Wind & Fire                            1\n",
      "Jon Bellion                                   1\n",
      "Flo Rida                                      1\n",
      "Britney Spears                                1\n",
      "Gwen Stefani                                  1\n",
      "Chris Brown                                   1\n",
      "Macklemore & Ryan Lewis                       1\n",
      "Louis Armstrong                               1\n",
      "Villancicos                                   1\n",
      "Foo Fighters                                  1\n",
      "Coral Cordobesa De Los Pedroches              1\n",
      "R. City                                       1\n",
      "Cardenales De Nuevo León                      1\n",
      "The Killers                                   1\n",
      "Yeah Yeah Yeahs                               1\n",
      "Iggy Azalea                                   1\n",
      "Darlene Love                                  1\n",
      "Afrojack                                      1\n",
      "Rosana                                        1\n",
      "Elvis Crespo                                  1\n",
      "Costera                                       1\n",
      "Bee Gees                                      1\n",
      "Elvis Presley                                 1\n",
      "Raymix                                        1\n",
      "Rita Ora                                      1\n",
      "Grupo Infantil Guarderia Pon                  1\n",
      "Little Mix                                    1\n",
      "Dasoul                                        1\n",
      "Vazquez Sounds                                1\n",
      "Denise De Kalafe                              1\n",
      "Name: Artist, Length: 389, dtype: int64\n"
     ]
    }
   ],
   "source": [
    "\"\"\" cantidad de streams \"\"\"\n",
    "print(conteo_artistas)"
   ]
  },
  {
   "cell_type": "markdown",
   "metadata": {},
   "source": [
    "### Canciones\n",
    "Ahora vamos a ver que pasa con las canciones\n"
   ]
  },
  {
   "cell_type": "code",
   "execution_count": null,
   "metadata": {
    "collapsed": true
   },
   "outputs": [],
   "source": [
    "id_region = 'mx'\n",
    "name_region = 'Mexico'\n",
    "\n"
   ]
  }
 ],
 "metadata": {
  "kernelspec": {
   "display_name": "Python 3",
   "language": "python",
   "name": "python3"
  },
  "language_info": {
   "codemirror_mode": {
    "name": "ipython",
    "version": 3
   },
   "file_extension": ".py",
   "mimetype": "text/x-python",
   "name": "python",
   "nbconvert_exporter": "python",
   "pygments_lexer": "ipython3",
   "version": "3.6.1"
  }
 },
 "nbformat": 4,
 "nbformat_minor": 2
}
