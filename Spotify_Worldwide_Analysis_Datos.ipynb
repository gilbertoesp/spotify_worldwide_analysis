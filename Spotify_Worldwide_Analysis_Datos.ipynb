{
 "cells": [
  {
   "cell_type": "markdown",
   "metadata": {},
   "source": [
    "# Analisis de Datos - Spotify Worldwide\n",
    "### Gilberto Espinoza Maciel (gilbertoespinoza97@gmail.com)\n",
    "\n",
    "## Caso de Estudio: [*Spotify's Worldwide Daily Song Ranking*](https://www.kaggle.com/edumucelli/spotifys-worldwide-daily-song-ranking/home)\n"
   ]
  },
  {
   "cell_type": "markdown",
   "metadata": {},
   "source": [
    "* __Conjunto de Datos: __ Spotify Worldwide Daily Song Ranking\n",
    "* __Descripción: __ El conjunto de datos que se presenta a continuación, muestra las 200 canciones mas escuchadas de cada pais donde el servicio _Spotify_ está disponible. Por ejemplo, los primeros 200 renglones son para el 1 de Enero del 2017, las siguientes 200 columnas son para el 2 de Enero del 2017 de Ecuador (ec). Esta base de datos será guiada principalmente por las columnas _Date_ y _Region_, pues con ellas podemos agrupar datos. Las demas columnas _Position_, _Track Name_, _Artist_, _Streams_ serán el vector de caracteristicas de cada entrada. La columna _URL_ es de acceso libre a la canción a través del servicio de _Spotify Web_. Cada renglon es un registro que nos dice que canción fue escuchada tantas veces (_streams_), que posición alcanzó en la región y fecha correspondiente.\n",
    "\n",
    "<!-- For instance, the first 200 rows present the ranking for the 1st of January in Argentina. The following 200 rows will contain the ranking for the 2nd of January in Argentina. The regions are alphabetically sorted.\n",
    "-->\n",
    "Variable | Descripción | Etiqueta\n",
    "-------- | ----------- | \n",
    "1 | Posicion de la canción en las mas escuchadas | _Position_\n",
    "2 | Nombre de la canción | _Track Name_\n",
    "3 | Artista de la canción | _Artist_\n",
    "4 | Cantidad de veces que ha sido reproducida | _Streams_\n",
    "5 | URL para escuchar la canción | _URL_\n",
    "6 | Fecha a la que corresponde el registro | _Date_\n",
    "7 | País donde se realizo el registro | _Region_\n",
    "\n",
    "\n",
    "* __Vector de caracteristicas: __ $v = \\{ postion, track\\_name, artist, streams, date, region\\}$"
   ]
  },
  {
   "cell_type": "code",
   "execution_count": 6,
   "metadata": {},
   "outputs": [
    {
     "name": "stdout",
     "output_type": "stream",
     "text": [
      "   Position                  Track Name           Artist  Streams  \\\n",
      "0         1  Reggaetón Lento (Bailemos)             CNCO    19272   \n",
      "1         2                    Chantaje          Shakira    19270   \n",
      "2         3   Otra Vez (feat. J Balvin)    Zion & Lennox    15761   \n",
      "3         4                Vente Pa' Ca     Ricky Martin    14954   \n",
      "4         5                      Safari         J Balvin    14269   \n",
      "5         6                La Bicicleta     Carlos Vives    12843   \n",
      "6         7                  Ay Mi Dios         IAmChino    10986   \n",
      "7         8          Andas En Mi Cabeza    Chino & Nacho    10653   \n",
      "8         9                 Traicionera  Sebastian Yatra     9807   \n",
      "9        10                 Shaky Shaky     Daddy Yankee     9612   \n",
      "\n",
      "                                                 URL        Date Region  \n",
      "0  https://open.spotify.com/track/3AEZUABDXNtecAO...  2017-01-01     ec  \n",
      "1  https://open.spotify.com/track/6mICuAdrwEjh6Y6...  2017-01-01     ec  \n",
      "2  https://open.spotify.com/track/3QwBODjSEzelZyV...  2017-01-01     ec  \n",
      "3  https://open.spotify.com/track/7DM4BPaS7uofFul...  2017-01-01     ec  \n",
      "4  https://open.spotify.com/track/6rQSrBHf7HlZjtc...  2017-01-01     ec  \n",
      "5  https://open.spotify.com/track/0sXvAOmXgjR2QUq...  2017-01-01     ec  \n",
      "6  https://open.spotify.com/track/6stYbAJgTszHAHZ...  2017-01-01     ec  \n",
      "7  https://open.spotify.com/track/5mey7CLLuFToM2P...  2017-01-01     ec  \n",
      "8  https://open.spotify.com/track/5J1c3M4EldCfNxX...  2017-01-01     ec  \n",
      "9  https://open.spotify.com/track/58IL315gMSTD37D...  2017-01-01     ec  \n"
     ]
    }
   ],
   "source": [
    "import pandas as pd\n",
    "# Siendo data.csv el dataset inicial\n",
    "daily_song_df = pd.read_csv(\"data/data.csv\")\n",
    "print(daily_song_df.head(10))"
   ]
  },
  {
   "cell_type": "markdown",
   "metadata": {},
   "source": [
    "Observamos los primeros  10 registros de nuestro _Data Frame_, las entradas corresponden a Ecuador.\n",
    "\n",
    "Realizamos un vistazo preliminar del _dataset_."
   ]
  },
  {
   "cell_type": "code",
   "execution_count": 7,
   "metadata": {},
   "outputs": [
    {
     "name": "stdout",
     "output_type": "stream",
     "text": [
      "Informacion.\n",
      "<class 'pandas.core.frame.DataFrame'>\n",
      "RangeIndex: 3441197 entries, 0 to 3441196\n",
      "Data columns (total 7 columns):\n",
      "Position      int64\n",
      "Track Name    object\n",
      "Artist        object\n",
      "Streams       int64\n",
      "URL           object\n",
      "Date          object\n",
      "Region        object\n",
      "dtypes: int64(2), object(5)\n",
      "memory usage: 183.8+ MB\n",
      "None\n",
      "-------------------------\n",
      "Descripcion\n",
      "           Position       Streams\n",
      "count  3.441197e+06  3.441197e+06\n",
      "mean   9.464399e+01  5.189176e+04\n",
      "std    5.739567e+01  2.018035e+05\n",
      "min    1.000000e+00  1.001000e+03\n",
      "25%    4.500000e+01  3.322000e+03\n",
      "50%    9.200000e+01  9.227000e+03\n",
      "75%    1.430000e+02  2.965800e+04\n",
      "max    2.000000e+02  1.138152e+07\n"
     ]
    }
   ],
   "source": [
    "print(\"Informacion.\")\n",
    "print(daily_song_df.info())\n",
    "\n",
    "print(\"-\" * 25) # Barra separadora\n",
    "\n",
    "print(\"Descripcion\")\n",
    "print(daily_song_df.describe())"
   ]
  },
  {
   "cell_type": "markdown",
   "metadata": {},
   "source": [
    "Con `daily_song_df.info()` vemos que contamos con 3 441 197 registros disponibles. 200 registros por los 53 países da un total de 10 600.\n",
    "Entonces tenemos un estimado de 324 días en nuestra base de datos. Pero eso pasa si suponemos que cada dia cuanta con sus 200 registros. Puede que haya dias faltantes, países que no cuenten con todos los días, días en que no esten los esperados 200 registros. \n",
    "\n",
    "Si suponemos que la base de datos apuntaba a tener las 200 canciones de los 53 países por los 365 días del año 2017, entonces se deberían esperar __3 869 000 registros__ entonces tenemos un estimado de __427 803 registros faltantes__, ubicar donde se encuentran estos hoyos es un objetivo de míneria de datos.\n",
    "\n",
    "Al observar la descripcion, vemos que las únicas dos variables númericas con las que contamos, _position_ no es útil dado que solo va 1 a 200 siempre. La cantidad de _streams_ es relevante para comparar entre canciones y el principal indicador, dado que marca quien es alcanza el _top_ de las canciones mas escuchadas. Un analísis posterior mas a detalle puede que sea útil."
   ]
  },
  {
   "cell_type": "markdown",
   "metadata": {},
   "source": []
  },
  {
   "cell_type": "code",
   "execution_count": null,
   "metadata": {
    "collapsed": true
   },
   "outputs": [],
   "source": []
  },
  {
   "cell_type": "code",
   "execution_count": null,
   "metadata": {
    "collapsed": true
   },
   "outputs": [],
   "source": []
  },
  {
   "cell_type": "code",
   "execution_count": null,
   "metadata": {
    "collapsed": true
   },
   "outputs": [],
   "source": []
  }
 ],
 "metadata": {
  "kernelspec": {
   "display_name": "Python 3",
   "language": "python",
   "name": "python3"
  },
  "language_info": {
   "codemirror_mode": {
    "name": "ipython",
    "version": 3
   },
   "file_extension": ".py",
   "mimetype": "text/x-python",
   "name": "python",
   "nbconvert_exporter": "python",
   "pygments_lexer": "ipython3",
   "version": "3.6.1"
  }
 },
 "nbformat": 4,
 "nbformat_minor": 2
}
