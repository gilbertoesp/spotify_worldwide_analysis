{
 "cells": [
  {
   "cell_type": "markdown",
   "metadata": {},
   "source": [
    "# PLOTS\n",
    "Vamos a hacer graficas, muchas graficas."
   ]
  },
  {
   "cell_type": "code",
   "execution_count": 1,
   "metadata": {},
   "outputs": [
    {
     "name": "stdout",
     "output_type": "stream",
     "text": [
      "   Position                  Track Name           Artist  Streams  \\\n",
      "0         1  Reggaetón Lento (Bailemos)             CNCO    19272   \n",
      "1         2                    Chantaje          Shakira    19270   \n",
      "2         3   Otra Vez (feat. J Balvin)    Zion & Lennox    15761   \n",
      "3         4                Vente Pa' Ca     Ricky Martin    14954   \n",
      "4         5                      Safari         J Balvin    14269   \n",
      "5         6                La Bicicleta     Carlos Vives    12843   \n",
      "6         7                  Ay Mi Dios         IAmChino    10986   \n",
      "7         8          Andas En Mi Cabeza    Chino & Nacho    10653   \n",
      "8         9                 Traicionera  Sebastian Yatra     9807   \n",
      "9        10                 Shaky Shaky     Daddy Yankee     9612   \n",
      "\n",
      "                                                 URL        Date Region  \n",
      "0  https://open.spotify.com/track/3AEZUABDXNtecAO...  2017-01-01     ec  \n",
      "1  https://open.spotify.com/track/6mICuAdrwEjh6Y6...  2017-01-01     ec  \n",
      "2  https://open.spotify.com/track/3QwBODjSEzelZyV...  2017-01-01     ec  \n",
      "3  https://open.spotify.com/track/7DM4BPaS7uofFul...  2017-01-01     ec  \n",
      "4  https://open.spotify.com/track/6rQSrBHf7HlZjtc...  2017-01-01     ec  \n",
      "5  https://open.spotify.com/track/0sXvAOmXgjR2QUq...  2017-01-01     ec  \n",
      "6  https://open.spotify.com/track/6stYbAJgTszHAHZ...  2017-01-01     ec  \n",
      "7  https://open.spotify.com/track/5mey7CLLuFToM2P...  2017-01-01     ec  \n",
      "8  https://open.spotify.com/track/5J1c3M4EldCfNxX...  2017-01-01     ec  \n",
      "9  https://open.spotify.com/track/58IL315gMSTD37D...  2017-01-01     ec  \n"
     ]
    }
   ],
   "source": [
    "\"\"\" Carga de datasets Spotify Worldwide Analisys \"\"\"\n",
    "#nota cargar funciones de spotify, doc & define\n",
    "import pandas as pd\n",
    "# Siendo data.csv el dataset inicial\n",
    "daily_song_df = pd.read_csv(\"data/data.csv\")\n",
    "print(daily_song_df.head(10))\n",
    "\n"
   ]
  },
  {
   "cell_type": "code",
   "execution_count": 3,
   "metadata": {
    "collapsed": true
   },
   "outputs": [],
   "source": [
    "\"\"\" Importando graficadores \"\"\"\n",
    "%matplotlib inline\n",
    "import numpy as np\n",
    "import matplotlib.pyplot as plt\n",
    "\n",
    "region = ['Mexico']"
   ]
  },
  {
   "cell_type": "code",
   "execution_count": null,
   "metadata": {
    "collapsed": true
   },
   "outputs": [],
   "source": [
    "\"\"\" Frecuencia de artistas por region \"\"\""
   ]
  },
  {
   "cell_type": "code",
   "execution_count": null,
   "metadata": {
    "collapsed": true
   },
   "outputs": [],
   "source": []
  },
  {
   "cell_type": "code",
   "execution_count": null,
   "metadata": {
    "collapsed": true
   },
   "outputs": [],
   "source": []
  },
  {
   "cell_type": "code",
   "execution_count": 2,
   "metadata": {
    "collapsed": true
   },
   "outputs": [],
   "source": [
    "\"\"\" Funcioes para Spotify \"\"\"\n",
    "#%% REGION DATAFRAME\n",
    "def get_region(df, region):\n",
    "    \"\"\"\n",
    "    Funcion que regresa el dataframe delimitado a una region\n",
    "    \"\"\"\n",
    "    return df.loc[df['Region'] == region]\n",
    "\n",
    "#%% DATES LIST\n",
    "\"\"\" get dates dado un dataframe\"\"\"\n",
    "def get_dates(df):\n",
    "    \"\"\"\n",
    "        Regresa una lista de todas las fechas del df recibido.\n",
    "        Las fechs estan en string foramto 2017-12-31\n",
    "        No todos las regines tienen dias completos\n",
    "    \"\"\"\n",
    "    dates = []\n",
    "    for date in df['Date']:\n",
    "        if date not in dates:\n",
    "            dates.append(date)\n",
    "    return dates\n",
    "#%%\n",
    "def get_top_by_day(num, date, df):\n",
    "    \"\"\"\n",
    "    Regresa un dataframe con el top num de la fecha dada del df dado, asumimos el df \n",
    "    dado es de una region definida\n",
    "    \"\"\"\n",
    "    return df.loc[df['Date'] == date].head(num)\n",
    "#%% donde\n",
    "def get_top(num, df, region=None, dates=None):\n",
    "    \"\"\"\n",
    "        Regresa un dataframe que contiene el top num (e.g. top 10, top 50)\n",
    "        de la region solicitada, y en un conjunto de fechas dada.\n",
    "        region = {'mx','global', ...}\n",
    "        date = ['20XX-12-31','20XX-12-31', ...]\n",
    "    \"\"\"\n",
    "    if region is not None:\n",
    "        df = get_region(df, region)\n",
    "    if dates is None:\n",
    "        dates = get_dates(df)\n",
    "    \n",
    "    data = pd.DataFrame()\n",
    "    for date in dates:\n",
    "        data = data.append(get_top_by_day(num, date, df))\n",
    "        \n",
    "    return data\n",
    " #%%   "
   ]
  },
  {
   "cell_type": "code",
   "execution_count": null,
   "metadata": {
    "collapsed": true
   },
   "outputs": [],
   "source": []
  }
 ],
 "metadata": {
  "kernelspec": {
   "display_name": "Python 3",
   "language": "python",
   "name": "python3"
  },
  "language_info": {
   "codemirror_mode": {
    "name": "ipython",
    "version": 3
   },
   "file_extension": ".py",
   "mimetype": "text/x-python",
   "name": "python",
   "nbconvert_exporter": "python",
   "pygments_lexer": "ipython3",
   "version": "3.6.1"
  }
 },
 "nbformat": 4,
 "nbformat_minor": 2
}
